{
 "cells": [
  {
   "cell_type": "markdown",
   "id": "d97f7798-98ad-436b-a452-84a8fd886266",
   "metadata": {},
   "source": [
    "# File to convert the Raw file to Taumata Arowai Format"
   ]
  },
  {
   "cell_type": "code",
   "execution_count": 28,
   "id": "fb20eb5e-9e80-4901-8a4f-65e57ddf4a15",
   "metadata": {},
   "outputs": [],
   "source": [
    "import pandas as pd\n",
    "from openpyxl import Workbook\n",
    "from openpyxl.utils.dataframe import dataframe_to_rows"
   ]
  },
  {
   "cell_type": "markdown",
   "id": "8df91026-3b58-4ee9-b767-5f82bd4721fc",
   "metadata": {},
   "source": [
    "## Reading the raw file "
   ]
  },
  {
   "cell_type": "code",
   "execution_count": 29,
   "id": "a8a2a20a-c8bf-4e1a-a92c-fd7e86f0f0f4",
   "metadata": {},
   "outputs": [],
   "source": [
    "# Read the input file \n",
    "df_inputexcelfile = pd.read_excel('Christchurch Drinking Water 2008 to 2021.xlsx')\n",
    "# Create a new workbook for the Christchurch file\n",
    "wb = Workbook()\n",
    "ws = wb.active"
   ]
  },
  {
   "cell_type": "markdown",
   "id": "6d4b1563-0b23-4531-952a-2c0e2549038e",
   "metadata": {},
   "source": [
    "## Removing teh Prefix and Suffix in the value column"
   ]
  },
  {
   "cell_type": "code",
   "execution_count": 30,
   "id": "3097c913-2d8c-4ca9-84b2-daa3224c2453",
   "metadata": {},
   "outputs": [],
   "source": [
    "# Function to extract the prefix from the 'Result' column\n",
    "def get_value_prefix(result):\n",
    "    \"\"\"Extracts the prefix from the 'Result' column.\"\"\"\n",
    "    prefix = ''\n",
    "    value = ''\n",
    "\n",
    "    if isinstance(result, str):\n",
    "        if result.startswith('>=') or result.startswith('<='):\n",
    "            prefix = result[0:2]\n",
    "            value = result[2:]\n",
    "        elif result.startswith('>') or result.startswith('<'):\n",
    "            prefix = result[0:1]\n",
    "            value = result[1:]\n",
    "        else:\n",
    "            value = result\n",
    "\n",
    "    return prefix, value\n"
   ]
  },
  {
   "cell_type": "markdown",
   "id": "42211e46-baa5-4bd4-a889-12261b2fdb64",
   "metadata": {},
   "source": [
    "## Reading standardised Determiand List and Unit of Measurements"
   ]
  },
  {
   "cell_type": "code",
   "execution_count": 31,
   "id": "216e5a14-728f-4acc-b03b-7cec95d6d07f",
   "metadata": {},
   "outputs": [],
   "source": [
    "detDflist = pd.read_csv(\"C:\\water analysis proj\\detName_list.csv\")\n",
    "UnitDflist = pd.read_csv(r\"C:\\water analysis proj\\unit_char2Fix_list.csv\")"
   ]
  },
  {
   "cell_type": "code",
   "execution_count": 33,
   "id": "ff13075a-a587-4775-9d70-09cdc51166e2",
   "metadata": {},
   "outputs": [],
   "source": [
    "def rename_determ(od):\n",
    "    odet = od.upper().strip()\n",
    "    hit = \"\"\n",
    "\n",
    "    for index, row in detDflist.iterrows():\n",
    "        r = list(filter(lambda x: pd.notna(x), row[1:]))  # Filter out missing values\n",
    "        r = [x.upper() for x in r]\n",
    "\n",
    "        if odet in r:\n",
    "            hit = row.iloc[0]\n",
    "            break\n",
    "        else:\n",
    "            hit = od.strip()\n",
    "\n",
    "    return hit"
   ]
  },
  {
   "cell_type": "code",
   "execution_count": 34,
   "id": "afb5167e-a823-4456-9c34-a115e139c5ab",
   "metadata": {},
   "outputs": [],
   "source": [
    "def rename_units(ounit):\n",
    "    ounit = str(ounit).upper().strip()\n",
    "    hit_unit = \"\"\n",
    "\n",
    "    for index, row in UnitDflist.iterrows():\n",
    "        r_unit = list(filter(lambda x: pd.notna(x), row[1:]))  # Filter out missing values\n",
    "        r_unit = [str(x).upper() for x in r_unit]\n",
    "\n",
    "        if ounit in r_unit:\n",
    "            hit_unit = str(row.iloc[0])\n",
    "            break\n",
    "        else:\n",
    "            hit_unit = ounit.strip()\n",
    "\n",
    "    return hit_unit"
   ]
  },
  {
   "cell_type": "markdown",
   "id": "c804c95a-c57b-43de-b7ae-c42620f6c7f0",
   "metadata": {},
   "source": [
    "## Converting time to a standard format"
   ]
  },
  {
   "cell_type": "code",
   "execution_count": 35,
   "id": "7fe879a0-605c-4b80-80af-5ae7bf9de88e",
   "metadata": {},
   "outputs": [],
   "source": [
    "def convert_time_format(time_str):\n",
    "    time_str= str(time_str).strip()\n",
    "    if pd.notna(time_str):\n",
    "        if ':' in time_str:\n",
    "            return time_str  # Time is already in the correct format\n",
    "        elif '.' in time_str:\n",
    "            return time_str.replace('.', ':')\n",
    "        elif len(time_str) == 3:\n",
    "            return f\"{time_str[0]}:{time_str[1:]}\"\n",
    "        elif len(time_str) == 4:\n",
    "            if time_str[0] == '0':\n",
    "                return f\"{time_str[1:3]}:{time_str[3:]}\"\n",
    "            else:\n",
    "                return f\"{time_str[:2]}:{time_str[2:]}\"\n",
    "        else:\n",
    "            return None  # Invalid time format\n",
    "    else:\n",
    "        return None"
   ]
  },
  {
   "cell_type": "markdown",
   "id": "e2783f42-9e5f-46e4-889d-f385fd90af5e",
   "metadata": {},
   "source": [
    "## Processing the Raw file to Taumata Arowai Format"
   ]
  },
  {
   "cell_type": "code",
   "execution_count": 36,
   "id": "15ee962c-2d4a-491e-a6d6-2329dc79de77",
   "metadata": {},
   "outputs": [],
   "source": [
    "\n",
    "\n",
    "# Assuming df_abc is your DataFrame\n",
    "christchurch_data = []\n",
    "\n",
    "for index, row in df_inputexcelfile.iterrows():\n",
    "    sample_time = convert_time_format(row['Sample Time'])\n",
    "    prefix, value = get_value_prefix(row['Result'])\n",
    "   \n",
    "    data = {\n",
    "        'sample_date':pd.to_datetime(row['Date']).strftime('%Y-%m-%d'),\n",
    "        'sample_date_time': sample_time,\n",
    "        'local_authority': 'Christchurch City Council',\n",
    "        'supply_component_id': '',\n",
    "        'reported_component_id': row['PressureZone'],\n",
    "        'old_supply_id': row['LocationID'],\n",
    "        'supply_component_name': '',\n",
    "        'location_address': row['Address'],\n",
    "        'latitude': '',\n",
    "        'longitude': '',\n",
    "        'parameter_determinand': rename_determ(row['Determinand']),\n",
    "        'original_determinand_name': row['Determinand'],\n",
    "        'original_value': row['Result'],\n",
    "        'value_prefix': prefix,\n",
    "        'value': value,\n",
    "        'unit': rename_units(row['Units']),\n",
    "        'original_unit': row['Units'],\n",
    "        'laboratory': row['LabRef'],\n",
    "        'lab_report_code': row['SampleID'],\n",
    "        'external_sample_id': '',\n",
    "        'file_name': 'Christchurch Drinking Water 2008 to 2021',\n",
    "        'LabID':row['LabID'],\n",
    "        'Purpose':row['Purpose'],\n",
    "        'Name':row['Name'],\n",
    "        'Comments':row['Comments'],\n",
    "        'Status':row['Status']\n",
    "        }\n",
    "\n",
    "    christchurch_data.append(data)\n",
    "\n",
    "# Create a DataFrame from the 'Christchurch' list\n",
    "df_christchurch = pd.DataFrame(christchurch_data)\n",
    "\n",
    "# Save the 'Christchurch' DataFrame to a new Excel file\n",
    "df_christchurch.to_excel('Christchurch_22022024.xlsx', index=False)\n"
   ]
  },
  {
   "cell_type": "code",
   "execution_count": null,
   "id": "0f4970dc-714a-4570-a708-c3343e952ce2",
   "metadata": {},
   "outputs": [],
   "source": []
  }
 ],
 "metadata": {
  "kernelspec": {
   "display_name": "Python 3 (ipykernel)",
   "language": "python",
   "name": "python3"
  },
  "language_info": {
   "codemirror_mode": {
    "name": "ipython",
    "version": 3
   },
   "file_extension": ".py",
   "mimetype": "text/x-python",
   "name": "python",
   "nbconvert_exporter": "python",
   "pygments_lexer": "ipython3",
   "version": "3.11.5"
  }
 },
 "nbformat": 4,
 "nbformat_minor": 5
}
